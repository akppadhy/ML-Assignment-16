{
 "cells": [
  {
   "cell_type": "code",
   "execution_count": null,
   "id": "2022be08-62c7-4459-88ea-5f6d0c4b60ec",
   "metadata": {},
   "outputs": [],
   "source": [
    "#1. In a linear equation, what is the difference between a dependent variable and an independent variable ?\n",
    "\n",
    "Ans: Algebraically, a linear equation typically takes the form y = mx + b, where m and b are constants, x is the independent variable, \n",
    "y is the dependent variable. The slope tells us how the dependent variable (y) changes for every one unit increase in the independent (x) variable, n average.\n",
    "\n",
    "The variables in a study of a cause-and-effect relationship are called the independent and dependent variables. The independent variable \n",
    "is the cause. Its value is independent of other variables in your study. The dependent variable is the effect"
   ]
  },
  {
   "cell_type": "code",
   "execution_count": null,
   "id": "03570a0e-1662-42a2-97cb-b8396cf64b66",
   "metadata": {},
   "outputs": [],
   "source": [
    "#2. What is the concept of simple linear regression? Give a specific example ?\n",
    "\n",
    "Ans: Simple linear regression is a regression model that estimates the relationship between one independent variable and one dependent \n",
    "variable using a straight line. Both variables should be quantitative. Linear regression most often uses mean-square error (MSE) to \n",
    "calculate the error of the model.\n",
    "\n",
    "For example, suppose that height was the only determinant of body weight.In this example, if an individual was 70 inches tall, we would \n",
    "predict his weight to be: Weight = 80 + 2 x (70) = 220 lbs. In this simple linear regression, we are examining the impact of one \n",
    "independent variable on the outcome."
   ]
  },
  {
   "cell_type": "code",
   "execution_count": null,
   "id": "9db1026e-4f23-4744-b208-63d61098b561",
   "metadata": {},
   "outputs": [],
   "source": [
    "#3.  In a linear regression, define the slope ?\n",
    "\n",
    "Ans: The slope of a regression line (b) represents the rate of change in y as x changes. Because y is dependent on x, the slope describes \n",
    "the predicted values of y given x. The slope must be calculated before the y-intercept when using a linear regression, as the intercept \n",
    "is calculated using the slope."
   ]
  },
  {
   "cell_type": "code",
   "execution_count": null,
   "id": "ee05f552-8f8e-4a15-bab6-e50ff4268f7c",
   "metadata": {},
   "outputs": [],
   "source": [
    "#4. Determine the graph's slope, where the lower point on the line is represented as (3, 2) and the higher point is represented as (2, 2) ?\n",
    "\n",
    "Ans: The graph's slope, where the lower point on the line is represented as (3, 2) and the higher point is represented as (2, 2) is 0"
   ]
  },
  {
   "cell_type": "code",
   "execution_count": null,
   "id": "bc233b43-5c55-4db5-bdd7-57dd8c7c42c3",
   "metadata": {},
   "outputs": [],
   "source": [
    "#5. In linear regression, what are the conditions for a positive slope ?\n",
    "\n",
    "Ans: If the slope is positive, y increases as x increases, and the function runs \"uphill\" (going left to right). If the slope is zero, \n",
    "y does not change, thus is constant—a horizontal line."
   ]
  },
  {
   "cell_type": "code",
   "execution_count": null,
   "id": "f01f8aae-61a0-4612-b14f-8df2416dfe3b",
   "metadata": {},
   "outputs": [],
   "source": [
    "#6. In linear regression, what are the conditions for a negative slope ?\n",
    "\n",
    "Ans: If the slope is negative, y decreases as x increases and the function runs downhill."
   ]
  },
  {
   "cell_type": "code",
   "execution_count": null,
   "id": "d802f343-1640-4b2e-88dd-431242d002d3",
   "metadata": {},
   "outputs": [],
   "source": [
    "#7. What is multiple linear regression and how does it work ?\n",
    "\n",
    "Ans: Multiple linear regression refers to a statistical technique that uses two or more independent variables to predict the outcome of a \n",
    "dependent variable. The technique enables analysts to determine the variation of the model and the relative contribution of each \n",
    "independent variable in the total variance."
   ]
  },
  {
   "cell_type": "code",
   "execution_count": null,
   "id": "ea3afa35-c373-421b-ba9b-f97ea8986171",
   "metadata": {},
   "outputs": [],
   "source": [
    "#8. In multiple linear regression, define the number of squares due to error ?\n",
    "\n",
    "Ans: The mean squared error (MSE) tells you how close a regression line is to a set of points. It does this by taking the distances from\n",
    "the points to the regression line (these distances are the “errors”) and squaring them. It's called the mean squared error as you're \n",
    "finding the average of a set of errors."
   ]
  },
  {
   "cell_type": "code",
   "execution_count": null,
   "id": "3c5b7def-43c9-47eb-b64b-5ac94911bcba",
   "metadata": {},
   "outputs": [],
   "source": [
    "#9. In multiple linear regression, define the number of squares due to regression ?\n",
    "\n",
    "Ans: Sum of squares is a statistical technique used in regression analysis to determine the dispersion of data points. In a regression \n",
    "analysis, the goal is to determine how well a data series can be fitted to a function that might help to explain how the data series was \n",
    "generated."
   ]
  },
  {
   "cell_type": "code",
   "execution_count": null,
   "id": "fb79e07f-46f0-4b68-99bf-0816caf53168",
   "metadata": {},
   "outputs": [],
   "source": [
    "#10. In a regression equation, what is multicollinearity ?\n",
    "\n",
    "Ans: Multicollinearity occurs when two or more independent variables are highly correlated with one another in a regression model. \n",
    "This means that an independent variable can be predicted from another independent variable in a regression model."
   ]
  },
  {
   "cell_type": "code",
   "execution_count": null,
   "id": "a6429603-0f02-4b48-9b8e-e35f5d1a64dd",
   "metadata": {},
   "outputs": [],
   "source": [
    "#11. What is heteroskedasticity, and what does it mean ?\n",
    "\n",
    "Ans: Heteroskedasticity (also spelled heteroscedasticity) refers to the error variance, or dependence of scattering, within a minimum of \n",
    "one independent variable within a particular sample.A common cause of variances outside the minimum requirement is often attributed to \n",
    "issues of data quality."
   ]
  },
  {
   "cell_type": "code",
   "execution_count": null,
   "id": "8aa5139a-6510-4ecf-83d3-efd5d609de30",
   "metadata": {},
   "outputs": [],
   "source": [
    "#12.  Describe the concept of ridge regression ?\n",
    "\n",
    "Ans: Ridge Regression is a technique for analyzing multiple regression data that suffer from multicollinearity.By adding a degree of bias\n",
    "to the regression estimates, ridge regression reduces the standard errors. It is hoped that the net effect will be to give estimates that\n",
    "are more reliable."
   ]
  },
  {
   "cell_type": "code",
   "execution_count": null,
   "id": "5b2dded4-68dc-40ca-a573-906375882211",
   "metadata": {},
   "outputs": [],
   "source": [
    "#13. Describe the concept of lasso regression ?\n",
    "\n",
    "Ans: In statistics and machine learning, lasso (least absolute shrinkage and selection operator; also Lasso or LASSO) is a regression \n",
    "analysis method that performs both variable selection and regularization in order to enhance the prediction accuracy and interpretability\n",
    "of the resulting statistical model."
   ]
  },
  {
   "cell_type": "code",
   "execution_count": null,
   "id": "ede0d7e7-5fd5-4431-8deb-d879b375f6d7",
   "metadata": {},
   "outputs": [],
   "source": [
    "#14. What is polynomial regression and how does it work ?\n",
    "\n",
    "Ans: Polynomial Regression is a form of Linear regression known as a special case of Multiple linear regression which estimates the \n",
    "relationship as an nth degree polynomial. Polynomial Regression is sensitive to outliers so the presence of one or two outliers can also \n",
    "badly affect the performance."
   ]
  },
  {
   "cell_type": "code",
   "execution_count": null,
   "id": "aa267101-49ba-43d3-8015-52d569354de0",
   "metadata": {},
   "outputs": [],
   "source": [
    "#15. Describe the basis function ?\n",
    "\n",
    "Ans: This is a generalization of linear regression that essentially replaces each input with a function of the input. \n",
    "(A linear basis function model that uses the identity function is just linear regression.)"
   ]
  },
  {
   "cell_type": "code",
   "execution_count": null,
   "id": "87014462-87e6-4596-acdf-c453fe55df03",
   "metadata": {},
   "outputs": [],
   "source": [
    "#16. Describe how logistic regression works ?\n",
    "\n",
    "Ans: Logistic regression uses an equation as the representation, very much like linear regression. Input values (x) are combined linearly\n",
    "using weights or coefficient values (referred to as the Greek capital letter Beta) to predict an output value (y)."
   ]
  }
 ],
 "metadata": {
  "kernelspec": {
   "display_name": "Python 3 (ipykernel)",
   "language": "python",
   "name": "python3"
  },
  "language_info": {
   "codemirror_mode": {
    "name": "ipython",
    "version": 3
   },
   "file_extension": ".py",
   "mimetype": "text/x-python",
   "name": "python",
   "nbconvert_exporter": "python",
   "pygments_lexer": "ipython3",
   "version": "3.10.6"
  }
 },
 "nbformat": 4,
 "nbformat_minor": 5
}
